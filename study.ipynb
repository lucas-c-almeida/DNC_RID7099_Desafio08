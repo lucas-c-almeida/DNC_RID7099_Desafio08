{
 "cells": [
  {
   "cell_type": "code",
   "execution_count": 2,
   "id": "83a65365",
   "metadata": {},
   "outputs": [],
   "source": [
    "import pandas as pd"
   ]
  },
  {
   "cell_type": "code",
   "execution_count": 3,
   "id": "4a98f1c9",
   "metadata": {},
   "outputs": [],
   "source": [
    "df = pd.read_csv('0_raw/raw_data.csv')"
   ]
  },
  {
   "cell_type": "code",
   "execution_count": 14,
   "id": "874ff423",
   "metadata": {},
   "outputs": [
    {
     "data": {
      "text/html": [
       "<div>\n",
       "<style scoped>\n",
       "    .dataframe tbody tr th:only-of-type {\n",
       "        vertical-align: middle;\n",
       "    }\n",
       "\n",
       "    .dataframe tbody tr th {\n",
       "        vertical-align: top;\n",
       "    }\n",
       "\n",
       "    .dataframe thead th {\n",
       "        text-align: right;\n",
       "    }\n",
       "</style>\n",
       "<table border=\"1\" class=\"dataframe\">\n",
       "  <thead>\n",
       "    <tr style=\"text-align: right;\">\n",
       "      <th></th>\n",
       "      <th>id</th>\n",
       "      <th>name</th>\n",
       "      <th>email</th>\n",
       "      <th>date_of_birth</th>\n",
       "      <th>signup_date</th>\n",
       "      <th>subscription_status</th>\n",
       "    </tr>\n",
       "  </thead>\n",
       "  <tbody>\n",
       "    <tr>\n",
       "      <th>58983</th>\n",
       "      <td>58984</td>\n",
       "      <td>Danielle Clark</td>\n",
       "      <td>jreid@example.net</td>\n",
       "      <td>1981-08-25</td>\n",
       "      <td>2021-10-10</td>\n",
       "      <td>active</td>\n",
       "    </tr>\n",
       "    <tr>\n",
       "      <th>43414</th>\n",
       "      <td>43415</td>\n",
       "      <td>Jeffrey Espinoza</td>\n",
       "      <td>leetammyexample.net</td>\n",
       "      <td>NaN</td>\n",
       "      <td>2022-03-13</td>\n",
       "      <td>active</td>\n",
       "    </tr>\n",
       "    <tr>\n",
       "      <th>68911</th>\n",
       "      <td>68912</td>\n",
       "      <td>NaN</td>\n",
       "      <td>NaN</td>\n",
       "      <td>2006-02-27</td>\n",
       "      <td>2023-07-14</td>\n",
       "      <td>inactive</td>\n",
       "    </tr>\n",
       "    <tr>\n",
       "      <th>64695</th>\n",
       "      <td>64696</td>\n",
       "      <td>Kristina Brown</td>\n",
       "      <td>fclarkexample.org</td>\n",
       "      <td>NaN</td>\n",
       "      <td>2023-06-04</td>\n",
       "      <td>inactive</td>\n",
       "    </tr>\n",
       "    <tr>\n",
       "      <th>40163</th>\n",
       "      <td>40164</td>\n",
       "      <td>Kim Ho</td>\n",
       "      <td>smithmelissaexample.org</td>\n",
       "      <td>1943-12-31</td>\n",
       "      <td>2024-04-05</td>\n",
       "      <td>active</td>\n",
       "    </tr>\n",
       "    <tr>\n",
       "      <th>30801</th>\n",
       "      <td>30802</td>\n",
       "      <td>Danielle White</td>\n",
       "      <td>roger26example.org</td>\n",
       "      <td>NaN</td>\n",
       "      <td>2021-12-08</td>\n",
       "      <td>active</td>\n",
       "    </tr>\n",
       "    <tr>\n",
       "      <th>44579</th>\n",
       "      <td>44580</td>\n",
       "      <td>NaN</td>\n",
       "      <td>NaN</td>\n",
       "      <td>1936-02-26</td>\n",
       "      <td>2024-03-01</td>\n",
       "      <td>active</td>\n",
       "    </tr>\n",
       "    <tr>\n",
       "      <th>13322</th>\n",
       "      <td>13323</td>\n",
       "      <td>Michael Roth</td>\n",
       "      <td>yserranoexample.com</td>\n",
       "      <td>2000-07-18</td>\n",
       "      <td>2020-06-28</td>\n",
       "      <td>active</td>\n",
       "    </tr>\n",
       "    <tr>\n",
       "      <th>18172</th>\n",
       "      <td>18173</td>\n",
       "      <td>Natalie Davidson</td>\n",
       "      <td>ygray@example.org</td>\n",
       "      <td>1975-03-15</td>\n",
       "      <td>2024-05-31</td>\n",
       "      <td>inactive</td>\n",
       "    </tr>\n",
       "    <tr>\n",
       "      <th>60837</th>\n",
       "      <td>60838</td>\n",
       "      <td>Tammy Boone</td>\n",
       "      <td>william39example.net</td>\n",
       "      <td>1951-03-25</td>\n",
       "      <td>2023-12-27</td>\n",
       "      <td>active</td>\n",
       "    </tr>\n",
       "  </tbody>\n",
       "</table>\n",
       "</div>"
      ],
      "text/plain": [
       "          id              name                    email date_of_birth  \\\n",
       "58983  58984    Danielle Clark        jreid@example.net    1981-08-25   \n",
       "43414  43415  Jeffrey Espinoza      leetammyexample.net           NaN   \n",
       "68911  68912               NaN                      NaN    2006-02-27   \n",
       "64695  64696    Kristina Brown        fclarkexample.org           NaN   \n",
       "40163  40164            Kim Ho  smithmelissaexample.org    1943-12-31   \n",
       "30801  30802    Danielle White       roger26example.org           NaN   \n",
       "44579  44580               NaN                      NaN    1936-02-26   \n",
       "13322  13323      Michael Roth      yserranoexample.com    2000-07-18   \n",
       "18172  18173  Natalie Davidson        ygray@example.org    1975-03-15   \n",
       "60837  60838       Tammy Boone     william39example.net    1951-03-25   \n",
       "\n",
       "      signup_date subscription_status  \n",
       "58983  2021-10-10              active  \n",
       "43414  2022-03-13              active  \n",
       "68911  2023-07-14            inactive  \n",
       "64695  2023-06-04            inactive  \n",
       "40163  2024-04-05              active  \n",
       "30801  2021-12-08              active  \n",
       "44579  2024-03-01              active  \n",
       "13322  2020-06-28              active  \n",
       "18172  2024-05-31            inactive  \n",
       "60837  2023-12-27              active  "
      ]
     },
     "execution_count": 14,
     "metadata": {},
     "output_type": "execute_result"
    }
   ],
   "source": [
    "df.sample(10)"
   ]
  },
  {
   "cell_type": "code",
   "execution_count": null,
   "id": "b7182a33",
   "metadata": {},
   "outputs": [],
   "source": [
    "import re\n",
    "\n",
    "def email_at_fill(email):\n",
    "    \"\"\"\n",
    "    Fixes emails by adding an \"@\" before \"example\", \"gmail\", \"hotmail\", \"outlook\", \"yahoo\" if it's missing.\n",
    "    \"\"\"\n",
    "    if isinstance(email, str):\n",
    "        domains = [\"example\", \"gmail\", \"hotmail\", \"outlook\", \"yahoo\"]\n",
    "        for domain in domains:\n",
    "            if domain in email and \"@\" not in email:\n",
    "                email = email.replace(domain, \"@\" + domain)\n",
    "        # Basic email validation using regex\n",
    "        if not re.match(r\"[^@]+@[^@]+\\.[^@]+\", email):\n",
    "            return None  # Or handle invalid emails as needed\n",
    "        return email\n",
    "    return None  # Handle non-string inputs\n",
    "\n",
    "# Example usage:\n",
    "# df['email'] = df['email'].apply(fix_email)\n",
    "\n",
    "def email_dotcom_fill(email):\n",
    "    \"\"\"\n",
    "    Appends '.com' to emails if they are missing it.\n",
    "    \"\"\"\n",
    "    if isinstance(email, str):\n",
    "        if \".com\" not in email:\n",
    "            # Basic check to avoid adding .com to already valid emails\n",
    "            if re.match(r\"[^@]+@[^@]+\\.[^@]+\", email):\n",
    "                return email\n",
    "            elif \"@\" in email:\n",
    "                email = email.strip()\n",
    "                email = email + \".com\"\n",
    "        return email\n",
    "    return None\n",
    "\n",
    "# Example usage:\n",
    "# df['email'] = df['email'].apply(fill_missing_dotcom)\n",
    "\n",
    "def merge_duplicate_emails(df):\n",
    "    \"\"\"\n",
    "    Merges records with duplicate emails, filling missing data from duplicates, and removes duplicates.\n",
    "    \"\"\"\n",
    "    # Find duplicate emails\n",
    "    duplicate_emails = df[df['email'].duplicated(keep=False)]\n",
    "\n",
    "    # Iterate through duplicate emails\n",
    "    for email in duplicate_emails['email'].unique():\n",
    "        # Get all rows with the same email\n",
    "        email_group = df[df['email'] == email]\n",
    "\n",
    "        if len(email_group) > 1:\n",
    "            # Get the index of the first row (the one we'll merge into)\n",
    "            first_index = email_group.index[0]\n",
    "\n",
    "            # Iterate through the other rows and fill NaN values in the first row\n",
    "            for index in email_group.index[1:]:\n",
    "                for col in df.columns:\n",
    "                    if pd.isna(df.loc[first_index, col]) and not pd.isna(df.loc[index, col]):\n",
    "                        df.loc[first_index, col] = df.loc[index, col]\n",
    "\n",
    "    # Remove duplicate rows based on email\n",
    "    df = df.drop_duplicates(subset=['email'], keep='first')\n",
    "\n",
    "    return df\n",
    "\n",
    "df = merge_duplicate_emails(df)"
   ]
  },
  {
   "cell_type": "code",
   "execution_count": null,
   "id": "808443fd",
   "metadata": {},
   "outputs": [],
   "source": [
    "def email_validation(email):\n",
    "    \"\"\"\n",
    "    Validates email addresses using regex.\n",
    "    \"\"\"\n",
    "    if isinstance(email, str):\n",
    "        # Basic email validation using regex\n",
    "        if re.match(r\"[^@]+@[^@]+\\.[^@]+\", email):\n",
    "            return True\n",
    "        else:\n",
    "            return False\n",
    "    return False  # Handle non-string inputs"
   ]
  },
  {
   "cell_type": "code",
   "execution_count": 10,
   "id": "926dd786",
   "metadata": {},
   "outputs": [
    {
     "data": {
      "text/plain": [
       "subscription_status\n",
       "inactive    50081\n",
       "active      49918\n",
       "Name: count, dtype: int64"
      ]
     },
     "execution_count": 10,
     "metadata": {},
     "output_type": "execute_result"
    }
   ],
   "source": [
    "df[\"subscription_status\"].value_counts()"
   ]
  },
  {
   "cell_type": "code",
   "execution_count": 9,
   "id": "2183bb1b",
   "metadata": {},
   "outputs": [
    {
     "name": "stdout",
     "output_type": "stream",
     "text": [
      "<class 'pandas.core.frame.DataFrame'>\n",
      "RangeIndex: 99999 entries, 0 to 99998\n",
      "Data columns (total 6 columns):\n",
      " #   Column               Non-Null Count  Dtype \n",
      "---  ------               --------------  ----- \n",
      " 0   id                   99999 non-null  int64 \n",
      " 1   name                 75113 non-null  object\n",
      " 2   email                74953 non-null  object\n",
      " 3   date_of_birth        74828 non-null  object\n",
      " 4   signup_date          99998 non-null  object\n",
      " 5   subscription_status  99999 non-null  object\n",
      "dtypes: int64(1), object(5)\n",
      "memory usage: 4.6+ MB\n"
     ]
    }
   ],
   "source": [
    "df.info()"
   ]
  },
  {
   "cell_type": "code",
   "execution_count": 7,
   "id": "c57515ba",
   "metadata": {},
   "outputs": [
    {
     "data": {
      "text/plain": [
       "np.int64(30084)"
      ]
     },
     "execution_count": 7,
     "metadata": {},
     "output_type": "execute_result"
    }
   ],
   "source": [
    "df['email'].duplicated().sum()"
   ]
  },
  {
   "cell_type": "markdown",
   "id": "142989f0",
   "metadata": {},
   "source": [
    "raw -> Bronze\n",
    "- Tratamento de duplicatas\n",
    "- Tratamento de nulos\n",
    "- Transformação de datas em datetime\n",
    "- Subscription status as boolean?\n",
    "- validação dos emails usando regex. Corrigir os erros mais comuns\n",
    "    - Falta do @. Colocar antes da string 'example'\n",
    "    - Falta do .com\n",
    "- ordenação por signup date\n",
    "\n",
    "Bronze -> Prata\n",
    "- Criação da feature age\n",
    "- Criação da feature signup_time "
   ]
  },
  {
   "cell_type": "code",
   "execution_count": null,
   "id": "4bcaa968",
   "metadata": {},
   "outputs": [],
   "source": []
  },
  {
   "cell_type": "markdown",
   "id": "b31679a8",
   "metadata": {},
   "source": []
  }
 ],
 "metadata": {
  "kernelspec": {
   "display_name": ".venv",
   "language": "python",
   "name": "python3"
  },
  "language_info": {
   "codemirror_mode": {
    "name": "ipython",
    "version": 3
   },
   "file_extension": ".py",
   "mimetype": "text/x-python",
   "name": "python",
   "nbconvert_exporter": "python",
   "pygments_lexer": "ipython3",
   "version": "3.9.6"
  }
 },
 "nbformat": 4,
 "nbformat_minor": 5
}
