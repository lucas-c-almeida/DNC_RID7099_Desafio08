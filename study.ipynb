{
 "cells": [
  {
   "cell_type": "markdown",
   "id": "9667555e",
   "metadata": {},
   "source": [
    "Este arquivo é utilizado somente para testes e resolução de bugs. Para informações sobre o projeto, consultar o readme.md"
   ]
  },
  {
   "cell_type": "code",
   "execution_count": 7,
   "id": "75ff0dd2",
   "metadata": {},
   "outputs": [],
   "source": [
    "import pandas as pd\n"
   ]
  },
  {
   "cell_type": "code",
   "execution_count": 9,
   "id": "4a98f1c9",
   "metadata": {},
   "outputs": [
    {
     "data": {
      "application/vnd.microsoft.datawrangler.viewer.v0+json": {
       "columns": [
        {
         "name": "index",
         "rawType": "int64",
         "type": "integer"
        },
        {
         "name": "id",
         "rawType": "int64",
         "type": "integer"
        },
        {
         "name": "name",
         "rawType": "object",
         "type": "unknown"
        },
        {
         "name": "email",
         "rawType": "object",
         "type": "unknown"
        },
        {
         "name": "date_of_birth",
         "rawType": "object",
         "type": "unknown"
        },
        {
         "name": "signup_date",
         "rawType": "object",
         "type": "string"
        },
        {
         "name": "subscription_status",
         "rawType": "object",
         "type": "string"
        }
       ],
       "conversionMethod": "pd.DataFrame",
       "ref": "5907440d-0b7b-4b26-99e5-bfb9586d2272",
       "rows": [
        [
         "24854",
         "24855",
         "Jessica Johnston",
         "isaiah65@example.com",
         "1977-11-03",
         "2024-02-12",
         "inactive"
        ],
        [
         "92566",
         "92567",
         null,
         "wuandrea@example.org",
         "1959-03-23",
         "2024-05-06",
         "inactive"
        ],
        [
         "15296",
         "15297",
         "Jose Taylor",
         "lisabeckerexample.com",
         null,
         "2022-11-30",
         "active"
        ],
        [
         "89895",
         "89896",
         "Jacob Adams",
         "ryanjones@example.net",
         "1983-12-23",
         "2023-07-25",
         "inactive"
        ],
        [
         "16684",
         "16685",
         null,
         "grimesjessicaexample.org",
         "1940-09-18",
         "2022-08-10",
         "active"
        ],
        [
         "71648",
         "71649",
         "Shannon Carlson",
         null,
         "1942-07-31",
         "2023-11-09",
         "active"
        ],
        [
         "96223",
         "96224",
         null,
         "melissaboyleexample.org",
         "1959-01-16",
         "2020-11-15",
         "active"
        ],
        [
         "85584",
         "85585",
         null,
         "jennifer14@example.com",
         "2004-10-07",
         "2022-08-25",
         "inactive"
        ],
        [
         "21786",
         "21787",
         "Susan Wright",
         null,
         null,
         "2023-03-14",
         "inactive"
        ],
        [
         "8928",
         "8929",
         "Charlene Marshall",
         null,
         "2004-11-06",
         "2022-03-20",
         "active"
        ]
       ],
       "shape": {
        "columns": 6,
        "rows": 10
       }
      },
      "text/html": [
       "<div>\n",
       "<style scoped>\n",
       "    .dataframe tbody tr th:only-of-type {\n",
       "        vertical-align: middle;\n",
       "    }\n",
       "\n",
       "    .dataframe tbody tr th {\n",
       "        vertical-align: top;\n",
       "    }\n",
       "\n",
       "    .dataframe thead th {\n",
       "        text-align: right;\n",
       "    }\n",
       "</style>\n",
       "<table border=\"1\" class=\"dataframe\">\n",
       "  <thead>\n",
       "    <tr style=\"text-align: right;\">\n",
       "      <th></th>\n",
       "      <th>id</th>\n",
       "      <th>name</th>\n",
       "      <th>email</th>\n",
       "      <th>date_of_birth</th>\n",
       "      <th>signup_date</th>\n",
       "      <th>subscription_status</th>\n",
       "    </tr>\n",
       "  </thead>\n",
       "  <tbody>\n",
       "    <tr>\n",
       "      <th>24854</th>\n",
       "      <td>24855</td>\n",
       "      <td>Jessica Johnston</td>\n",
       "      <td>isaiah65@example.com</td>\n",
       "      <td>1977-11-03</td>\n",
       "      <td>2024-02-12</td>\n",
       "      <td>inactive</td>\n",
       "    </tr>\n",
       "    <tr>\n",
       "      <th>92566</th>\n",
       "      <td>92567</td>\n",
       "      <td>NaN</td>\n",
       "      <td>wuandrea@example.org</td>\n",
       "      <td>1959-03-23</td>\n",
       "      <td>2024-05-06</td>\n",
       "      <td>inactive</td>\n",
       "    </tr>\n",
       "    <tr>\n",
       "      <th>15296</th>\n",
       "      <td>15297</td>\n",
       "      <td>Jose Taylor</td>\n",
       "      <td>lisabeckerexample.com</td>\n",
       "      <td>NaN</td>\n",
       "      <td>2022-11-30</td>\n",
       "      <td>active</td>\n",
       "    </tr>\n",
       "    <tr>\n",
       "      <th>89895</th>\n",
       "      <td>89896</td>\n",
       "      <td>Jacob Adams</td>\n",
       "      <td>ryanjones@example.net</td>\n",
       "      <td>1983-12-23</td>\n",
       "      <td>2023-07-25</td>\n",
       "      <td>inactive</td>\n",
       "    </tr>\n",
       "    <tr>\n",
       "      <th>16684</th>\n",
       "      <td>16685</td>\n",
       "      <td>NaN</td>\n",
       "      <td>grimesjessicaexample.org</td>\n",
       "      <td>1940-09-18</td>\n",
       "      <td>2022-08-10</td>\n",
       "      <td>active</td>\n",
       "    </tr>\n",
       "    <tr>\n",
       "      <th>71648</th>\n",
       "      <td>71649</td>\n",
       "      <td>Shannon Carlson</td>\n",
       "      <td>NaN</td>\n",
       "      <td>1942-07-31</td>\n",
       "      <td>2023-11-09</td>\n",
       "      <td>active</td>\n",
       "    </tr>\n",
       "    <tr>\n",
       "      <th>96223</th>\n",
       "      <td>96224</td>\n",
       "      <td>NaN</td>\n",
       "      <td>melissaboyleexample.org</td>\n",
       "      <td>1959-01-16</td>\n",
       "      <td>2020-11-15</td>\n",
       "      <td>active</td>\n",
       "    </tr>\n",
       "    <tr>\n",
       "      <th>85584</th>\n",
       "      <td>85585</td>\n",
       "      <td>NaN</td>\n",
       "      <td>jennifer14@example.com</td>\n",
       "      <td>2004-10-07</td>\n",
       "      <td>2022-08-25</td>\n",
       "      <td>inactive</td>\n",
       "    </tr>\n",
       "    <tr>\n",
       "      <th>21786</th>\n",
       "      <td>21787</td>\n",
       "      <td>Susan Wright</td>\n",
       "      <td>NaN</td>\n",
       "      <td>NaN</td>\n",
       "      <td>2023-03-14</td>\n",
       "      <td>inactive</td>\n",
       "    </tr>\n",
       "    <tr>\n",
       "      <th>8928</th>\n",
       "      <td>8929</td>\n",
       "      <td>Charlene Marshall</td>\n",
       "      <td>NaN</td>\n",
       "      <td>2004-11-06</td>\n",
       "      <td>2022-03-20</td>\n",
       "      <td>active</td>\n",
       "    </tr>\n",
       "  </tbody>\n",
       "</table>\n",
       "</div>"
      ],
      "text/plain": [
       "          id               name                     email date_of_birth  \\\n",
       "24854  24855   Jessica Johnston      isaiah65@example.com    1977-11-03   \n",
       "92566  92567                NaN      wuandrea@example.org    1959-03-23   \n",
       "15296  15297        Jose Taylor     lisabeckerexample.com           NaN   \n",
       "89895  89896        Jacob Adams     ryanjones@example.net    1983-12-23   \n",
       "16684  16685                NaN  grimesjessicaexample.org    1940-09-18   \n",
       "71648  71649    Shannon Carlson                       NaN    1942-07-31   \n",
       "96223  96224                NaN   melissaboyleexample.org    1959-01-16   \n",
       "85584  85585                NaN    jennifer14@example.com    2004-10-07   \n",
       "21786  21787       Susan Wright                       NaN           NaN   \n",
       "8928    8929  Charlene Marshall                       NaN    2004-11-06   \n",
       "\n",
       "      signup_date subscription_status  \n",
       "24854  2024-02-12            inactive  \n",
       "92566  2024-05-06            inactive  \n",
       "15296  2022-11-30              active  \n",
       "89895  2023-07-25            inactive  \n",
       "16684  2022-08-10              active  \n",
       "71648  2023-11-09              active  \n",
       "96223  2020-11-15              active  \n",
       "85584  2022-08-25            inactive  \n",
       "21786  2023-03-14            inactive  \n",
       "8928   2022-03-20              active  "
      ]
     },
     "execution_count": 9,
     "metadata": {},
     "output_type": "execute_result"
    }
   ],
   "source": [
    "df = pd.read_csv('data/0_raw/raw_data.csv')\n",
    "df.sample(10)"
   ]
  },
  {
   "cell_type": "code",
   "execution_count": 10,
   "id": "926dd786",
   "metadata": {},
   "outputs": [
    {
     "data": {
      "text/plain": [
       "subscription_status\n",
       "inactive    50081\n",
       "active      49918\n",
       "Name: count, dtype: int64"
      ]
     },
     "execution_count": 10,
     "metadata": {},
     "output_type": "execute_result"
    }
   ],
   "source": [
    "df[\"subscription_status\"].value_counts()"
   ]
  },
  {
   "cell_type": "code",
   "execution_count": 11,
   "id": "2183bb1b",
   "metadata": {},
   "outputs": [
    {
     "name": "stdout",
     "output_type": "stream",
     "text": [
      "<class 'pandas.core.frame.DataFrame'>\n",
      "RangeIndex: 99999 entries, 0 to 99998\n",
      "Data columns (total 6 columns):\n",
      " #   Column               Non-Null Count  Dtype \n",
      "---  ------               --------------  ----- \n",
      " 0   id                   99999 non-null  int64 \n",
      " 1   name                 75113 non-null  object\n",
      " 2   email                74953 non-null  object\n",
      " 3   date_of_birth        74828 non-null  object\n",
      " 4   signup_date          99998 non-null  object\n",
      " 5   subscription_status  99999 non-null  object\n",
      "dtypes: int64(1), object(5)\n",
      "memory usage: 4.6+ MB\n"
     ]
    }
   ],
   "source": [
    "df.info()"
   ]
  },
  {
   "cell_type": "code",
   "execution_count": 12,
   "id": "c57515ba",
   "metadata": {},
   "outputs": [
    {
     "data": {
      "text/plain": [
       "np.int64(30084)"
      ]
     },
     "execution_count": 12,
     "metadata": {},
     "output_type": "execute_result"
    }
   ],
   "source": [
    "df['email'].duplicated().sum()"
   ]
  },
  {
   "cell_type": "markdown",
   "id": "142989f0",
   "metadata": {},
   "source": [
    "raw -> Bronze\n",
    "- Tratamento de duplicatas\n",
    "- Tratamento de nulos\n",
    "- Transformação de datas em datetime\n",
    "- Subscription status as boolean?\n",
    "- validação dos emails usando regex. Corrigir os erros mais comuns\n",
    "    - Falta do @. Colocar antes da string 'example'\n",
    "    - Falta do .com\n",
    "- ordenação por signup date\n",
    "\n",
    "Bronze -> Prata\n",
    "- Criação da feature age\n",
    "- Criação da feature signup_time "
   ]
  },
  {
   "cell_type": "code",
   "execution_count": 8,
   "id": "83a65365",
   "metadata": {},
   "outputs": [
    {
     "data": {
      "application/vnd.microsoft.datawrangler.viewer.v0+json": {
       "columns": [
        {
         "name": "index",
         "rawType": "int64",
         "type": "integer"
        },
        {
         "name": "id",
         "rawType": "int64",
         "type": "integer"
        },
        {
         "name": "name",
         "rawType": "object",
         "type": "string"
        },
        {
         "name": "email",
         "rawType": "object",
         "type": "string"
        },
        {
         "name": "date_of_birth",
         "rawType": "object",
         "type": "string"
        },
        {
         "name": "signup_date",
         "rawType": "object",
         "type": "unknown"
        },
        {
         "name": "subscription_status",
         "rawType": "object",
         "type": "string"
        },
        {
         "name": "age",
         "rawType": "int64",
         "type": "integer"
        }
       ],
       "conversionMethod": "pd.DataFrame",
       "ref": "51ddf5a5-cc36-4bf5-befc-6884c453415d",
       "rows": [
        [
         "0",
         "3",
         "bob johnson",
         "bob.johnson@example.com",
         "1977-03-30",
         "2018-12-12",
         "inactive",
         "48"
        ],
        [
         "1",
         "2",
         "jane smith",
         "jane.smith@example.com",
         "1990-05-22",
         "2019-06-17",
         "active",
         "34"
        ],
        [
         "2",
         "69051",
         "allen alvarez",
         "lisagillespie@example.com",
         "2000-08-22",
         "2020-01-01",
         "active",
         "24"
        ],
        [
         "3",
         "83557",
         "andrew mata",
         "jharrison@example.org",
         "1980-11-13",
         "2020-01-01",
         "inactive",
         "44"
        ],
        [
         "4",
         "34184",
         "tina barber",
         "ebyrd@example.net",
         "1985-09-15",
         "2020-01-01",
         "inactive",
         "39"
        ],
        [
         "5",
         "41337",
         "daniel clark",
         "walkeraaron@example.net",
         "1938-10-21",
         "2020-01-01",
         "active",
         "86"
        ],
        [
         "6",
         "35550",
         "danielle hunt",
         "iroberts@example.net",
         "1995-03-24",
         "2020-01-01",
         "active",
         "30"
        ],
        [
         "7",
         "26774",
         "maria garcia",
         "daycarl@example.net",
         "1962-12-22",
         "2020-01-01",
         "inactive",
         "62"
        ],
        [
         "8",
         "38736",
         "belinda bailey",
         "williamrobinson@example.org",
         "1947-04-16",
         "2020-01-01",
         "active",
         "77"
        ],
        [
         "9",
         "39706",
         "chris griffin",
         "troy47@example.org",
         "1975-07-16",
         "2020-01-01",
         "inactive",
         "49"
        ],
        [
         "10",
         "12061",
         "jessica carrillo",
         "brownrebekah@example.org",
         "1991-06-04",
         "2020-01-01",
         "active",
         "33"
        ],
        [
         "11",
         "34687",
         "eric hobbs",
         "santanadenise@example.net",
         "1972-12-22",
         "2020-01-01",
         "active",
         "52"
        ],
        [
         "12",
         "31368",
         "erika phillips",
         "holly47@example.com",
         "1971-04-18",
         "2020-01-01",
         "active",
         "53"
        ],
        [
         "13",
         "21994",
         "kelly jones",
         "aprilrussell@example.org",
         "2003-10-30",
         "2020-01-01",
         "inactive",
         "21"
        ],
        [
         "14",
         "47908",
         "jennifer day",
         "benjamin65@example.com",
         "1967-01-20",
         "2020-01-01",
         "active",
         "58"
        ],
        [
         "15",
         "82569",
         "stephanie johnson",
         "hardyalexander@example.org",
         "2005-11-24",
         "2020-01-01",
         "active",
         "19"
        ],
        [
         "16",
         "11340",
         "thomas moore",
         "poncegregory@example.org",
         "2002-02-01",
         "2020-01-01",
         "inactive",
         "23"
        ],
        [
         "17",
         "42198",
         "shannon parsons",
         "fschwartz@example.com",
         "1934-02-11",
         "2020-01-01",
         "inactive",
         "91"
        ],
        [
         "18",
         "42115",
         "luke copeland",
         "jharper@example.org",
         "1937-07-16",
         "2020-01-01",
         "inactive",
         "87"
        ],
        [
         "19",
         "73921",
         "matthew roberts",
         "floresarthur@example.net",
         "1948-09-21",
         "2020-01-01",
         "active",
         "76"
        ],
        [
         "20",
         "2788",
         "tracey lawson",
         "melissasmith@example.com",
         "1948-06-17",
         "2020-01-01",
         "inactive",
         "76"
        ],
        [
         "21",
         "3413",
         "molly mann",
         "yreed@example.org",
         "1948-02-23",
         "2020-01-01",
         "inactive",
         "77"
        ],
        [
         "22",
         "22627",
         "harold davis",
         "emilyalexander@example.org",
         "1995-08-09",
         "2020-01-01",
         "inactive",
         "29"
        ],
        [
         "23",
         "435",
         "mark yoder",
         "william81@example.net",
         "1979-03-19",
         "2020-01-01",
         "active",
         "46"
        ],
        [
         "24",
         "91594",
         "james gillespie",
         "daniel51@example.com",
         "1934-10-29",
         "2020-01-01",
         "inactive",
         "90"
        ],
        [
         "25",
         "48277",
         "maria davila",
         "jpatterson@example.com",
         "1991-05-16",
         "2020-01-01",
         "active",
         "33"
        ],
        [
         "26",
         "57189",
         "jonathan rodriguez",
         "rebeccadavis@example.net",
         "1969-11-24",
         "2020-01-01",
         "active",
         "55"
        ],
        [
         "27",
         "30026",
         "brady moore",
         "gomezdawn@example.org",
         "1946-07-30",
         "2020-01-01",
         "inactive",
         "78"
        ],
        [
         "28",
         "68216",
         "debbie miller",
         "travissilva@example.com",
         "1958-12-12",
         "2020-01-01",
         "inactive",
         "66"
        ],
        [
         "29",
         "5696",
         "jennifer willis",
         "vyoung@example.org",
         "1934-07-11",
         "2020-01-01",
         "inactive",
         "90"
        ],
        [
         "30",
         "29330",
         "michael kent",
         "jenniferlee@example.net",
         "1937-09-29",
         "2020-01-01",
         "inactive",
         "87"
        ],
        [
         "31",
         "1058",
         "william white",
         "ngonzalez@example.net",
         "1987-12-30",
         "2020-01-02",
         "inactive",
         "37"
        ],
        [
         "32",
         "90832",
         "jerry knight",
         "stanleyjessica@example.com",
         "1983-10-17",
         "2020-01-02",
         "inactive",
         "41"
        ],
        [
         "33",
         "62890",
         "tyler tucker",
         "kristinbowen@example.net",
         "1937-03-14",
         "2020-01-02",
         "inactive",
         "88"
        ],
        [
         "34",
         "782",
         "kathryn oneill",
         "kelly86@example.org",
         "1983-04-28",
         "2020-01-02",
         "active",
         "41"
        ],
        [
         "35",
         "10957",
         "ebony leon",
         "hbowman@example.com",
         "1983-07-07",
         "2020-01-02",
         "inactive",
         "41"
        ],
        [
         "36",
         "9789",
         "theresa cummings",
         "bakergregory@example.com",
         "1991-12-09",
         "2020-01-02",
         "inactive",
         "33"
        ],
        [
         "37",
         "8952",
         "heather greer",
         "james74@example.net",
         "1986-02-02",
         "2020-01-02",
         "active",
         "39"
        ],
        [
         "38",
         "29790",
         "beverly hubbard",
         "emilywells@example.net",
         "1987-10-13",
         "2020-01-02",
         "active",
         "37"
        ],
        [
         "39",
         "61445",
         "tracy murphy",
         "jennifer95@example.org",
         "1967-04-19",
         "2020-01-02",
         "inactive",
         "57"
        ],
        [
         "40",
         "53118",
         "janet graham",
         "calebsilva@example.org",
         "1963-04-17",
         "2020-01-02",
         "active",
         "61"
        ],
        [
         "41",
         "2560",
         "kristi bates",
         "castrochristopher@example.org",
         "1965-08-25",
         "2020-01-02",
         "active",
         "59"
        ],
        [
         "42",
         "14037",
         "brandon miller",
         "angel57@example.org",
         "1980-03-10",
         "2020-01-02",
         "active",
         "45"
        ],
        [
         "43",
         "4231",
         "mr. christopher johnson",
         "michaeljohnson@example.com",
         "1969-08-02",
         "2020-01-02",
         "inactive",
         "55"
        ],
        [
         "44",
         "51655",
         "james becker",
         "sarah63@example.org",
         "1992-01-16",
         "2020-01-02",
         "active",
         "33"
        ],
        [
         "45",
         "57734",
         "cory sanchez",
         "smithalexander@example.com",
         "1941-10-23",
         "2020-01-02",
         "active",
         "83"
        ],
        [
         "46",
         "46048",
         "victoria mathews",
         "mirandaricky@example.com",
         "1960-07-22",
         "2020-01-02",
         "active",
         "64"
        ],
        [
         "47",
         "8742",
         "evelyn thompson",
         "carrjohn@example.org",
         "1947-07-11",
         "2020-01-02",
         "inactive",
         "77"
        ],
        [
         "48",
         "45924",
         "george newman",
         "diane77@example.net",
         "1975-02-06",
         "2020-01-02",
         "active",
         "50"
        ],
        [
         "49",
         "39296",
         "annette thornton",
         "toni53@example.com",
         "1987-11-10",
         "2020-01-02",
         "active",
         "37"
        ]
       ],
       "shape": {
        "columns": 7,
        "rows": 39560
       }
      },
      "text/html": [
       "<div>\n",
       "<style scoped>\n",
       "    .dataframe tbody tr th:only-of-type {\n",
       "        vertical-align: middle;\n",
       "    }\n",
       "\n",
       "    .dataframe tbody tr th {\n",
       "        vertical-align: top;\n",
       "    }\n",
       "\n",
       "    .dataframe thead th {\n",
       "        text-align: right;\n",
       "    }\n",
       "</style>\n",
       "<table border=\"1\" class=\"dataframe\">\n",
       "  <thead>\n",
       "    <tr style=\"text-align: right;\">\n",
       "      <th></th>\n",
       "      <th>id</th>\n",
       "      <th>name</th>\n",
       "      <th>email</th>\n",
       "      <th>date_of_birth</th>\n",
       "      <th>signup_date</th>\n",
       "      <th>subscription_status</th>\n",
       "      <th>age</th>\n",
       "    </tr>\n",
       "  </thead>\n",
       "  <tbody>\n",
       "    <tr>\n",
       "      <th>0</th>\n",
       "      <td>3</td>\n",
       "      <td>bob johnson</td>\n",
       "      <td>bob.johnson@example.com</td>\n",
       "      <td>1977-03-30</td>\n",
       "      <td>2018-12-12</td>\n",
       "      <td>inactive</td>\n",
       "      <td>48</td>\n",
       "    </tr>\n",
       "    <tr>\n",
       "      <th>1</th>\n",
       "      <td>2</td>\n",
       "      <td>jane smith</td>\n",
       "      <td>jane.smith@example.com</td>\n",
       "      <td>1990-05-22</td>\n",
       "      <td>2019-06-17</td>\n",
       "      <td>active</td>\n",
       "      <td>34</td>\n",
       "    </tr>\n",
       "    <tr>\n",
       "      <th>2</th>\n",
       "      <td>69051</td>\n",
       "      <td>allen alvarez</td>\n",
       "      <td>lisagillespie@example.com</td>\n",
       "      <td>2000-08-22</td>\n",
       "      <td>2020-01-01</td>\n",
       "      <td>active</td>\n",
       "      <td>24</td>\n",
       "    </tr>\n",
       "    <tr>\n",
       "      <th>3</th>\n",
       "      <td>83557</td>\n",
       "      <td>andrew mata</td>\n",
       "      <td>jharrison@example.org</td>\n",
       "      <td>1980-11-13</td>\n",
       "      <td>2020-01-01</td>\n",
       "      <td>inactive</td>\n",
       "      <td>44</td>\n",
       "    </tr>\n",
       "    <tr>\n",
       "      <th>4</th>\n",
       "      <td>34184</td>\n",
       "      <td>tina barber</td>\n",
       "      <td>ebyrd@example.net</td>\n",
       "      <td>1985-09-15</td>\n",
       "      <td>2020-01-01</td>\n",
       "      <td>inactive</td>\n",
       "      <td>39</td>\n",
       "    </tr>\n",
       "    <tr>\n",
       "      <th>...</th>\n",
       "      <td>...</td>\n",
       "      <td>...</td>\n",
       "      <td>...</td>\n",
       "      <td>...</td>\n",
       "      <td>...</td>\n",
       "      <td>...</td>\n",
       "      <td>...</td>\n",
       "    </tr>\n",
       "    <tr>\n",
       "      <th>39555</th>\n",
       "      <td>83956</td>\n",
       "      <td>barbara sellers</td>\n",
       "      <td>jthornton@example.com</td>\n",
       "      <td>1964-02-23</td>\n",
       "      <td>2024-06-02</td>\n",
       "      <td>inactive</td>\n",
       "      <td>61</td>\n",
       "    </tr>\n",
       "    <tr>\n",
       "      <th>39556</th>\n",
       "      <td>14332</td>\n",
       "      <td>rebecca summers</td>\n",
       "      <td>sarah74@example.com</td>\n",
       "      <td>1945-12-14</td>\n",
       "      <td>2024-06-02</td>\n",
       "      <td>inactive</td>\n",
       "      <td>79</td>\n",
       "    </tr>\n",
       "    <tr>\n",
       "      <th>39557</th>\n",
       "      <td>64937</td>\n",
       "      <td>terry hamilton</td>\n",
       "      <td>mross@example.net</td>\n",
       "      <td>1953-07-24</td>\n",
       "      <td>2024-06-02</td>\n",
       "      <td>active</td>\n",
       "      <td>71</td>\n",
       "    </tr>\n",
       "    <tr>\n",
       "      <th>39558</th>\n",
       "      <td>5368</td>\n",
       "      <td>kevin jordan</td>\n",
       "      <td>ubaker@example.net</td>\n",
       "      <td>1949-10-04</td>\n",
       "      <td>2024-06-02</td>\n",
       "      <td>inactive</td>\n",
       "      <td>75</td>\n",
       "    </tr>\n",
       "    <tr>\n",
       "      <th>39559</th>\n",
       "      <td>5</td>\n",
       "      <td>charlie black</td>\n",
       "      <td>charlie.black@example.com</td>\n",
       "      <td>1988-11-23</td>\n",
       "      <td>NaN</td>\n",
       "      <td>inactive</td>\n",
       "      <td>36</td>\n",
       "    </tr>\n",
       "  </tbody>\n",
       "</table>\n",
       "<p>39560 rows × 7 columns</p>\n",
       "</div>"
      ],
      "text/plain": [
       "          id             name                      email date_of_birth  \\\n",
       "0          3      bob johnson    bob.johnson@example.com    1977-03-30   \n",
       "1          2       jane smith     jane.smith@example.com    1990-05-22   \n",
       "2      69051    allen alvarez  lisagillespie@example.com    2000-08-22   \n",
       "3      83557      andrew mata      jharrison@example.org    1980-11-13   \n",
       "4      34184      tina barber          ebyrd@example.net    1985-09-15   \n",
       "...      ...              ...                        ...           ...   \n",
       "39555  83956  barbara sellers      jthornton@example.com    1964-02-23   \n",
       "39556  14332  rebecca summers        sarah74@example.com    1945-12-14   \n",
       "39557  64937   terry hamilton          mross@example.net    1953-07-24   \n",
       "39558   5368     kevin jordan         ubaker@example.net    1949-10-04   \n",
       "39559      5    charlie black  charlie.black@example.com    1988-11-23   \n",
       "\n",
       "      signup_date subscription_status  age  \n",
       "0      2018-12-12            inactive   48  \n",
       "1      2019-06-17              active   34  \n",
       "2      2020-01-01              active   24  \n",
       "3      2020-01-01            inactive   44  \n",
       "4      2020-01-01            inactive   39  \n",
       "...           ...                 ...  ...  \n",
       "39555  2024-06-02            inactive   61  \n",
       "39556  2024-06-02            inactive   79  \n",
       "39557  2024-06-02              active   71  \n",
       "39558  2024-06-02            inactive   75  \n",
       "39559         NaN            inactive   36  \n",
       "\n",
       "[39560 rows x 7 columns]"
      ]
     },
     "execution_count": 8,
     "metadata": {},
     "output_type": "execute_result"
    }
   ],
   "source": [
    "# Silver to gold bug hunt\n",
    "\n",
    "df = pd.read_csv(r'data\\2_silver\\silver.csv')\n",
    "df"
   ]
  },
  {
   "cell_type": "markdown",
   "id": "b31679a8",
   "metadata": {},
   "source": []
  }
 ],
 "metadata": {
  "kernelspec": {
   "display_name": "base",
   "language": "python",
   "name": "python3"
  },
  "language_info": {
   "codemirror_mode": {
    "name": "ipython",
    "version": 3
   },
   "file_extension": ".py",
   "mimetype": "text/x-python",
   "name": "python",
   "nbconvert_exporter": "python",
   "pygments_lexer": "ipython3",
   "version": "3.12.9"
  }
 },
 "nbformat": 4,
 "nbformat_minor": 5
}
